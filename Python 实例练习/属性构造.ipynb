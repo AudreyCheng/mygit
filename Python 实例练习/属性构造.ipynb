{
 "cells": [
  {
   "cell_type": "code",
   "execution_count": 9,
   "metadata": {},
   "outputs": [],
   "source": [
    "# 属性构造\n",
    "\n",
    "#-*- coding: utf-8 -*-\n",
    "#线损率属性构造\n",
    "import pandas as pd"
   ]
  },
  {
   "cell_type": "code",
   "execution_count": 10,
   "metadata": {},
   "outputs": [],
   "source": [
    "#参数初始化\n",
    "inputfile= '/Users/admin/PycharmProjects/pythonProject1/python_da/chapter4/demo/data/electricity_data.xls' #供入供出电量数据\n",
    "outputfile = '/Users/admin/PycharmProjects/pythonProject1/python_da/chapter4/demo/tmp/electricity_data.xls' #属性构造后数据文件"
   ]
  },
  {
   "cell_type": "code",
   "execution_count": 11,
   "metadata": {},
   "outputs": [],
   "source": [
    "data = pd.read_excel(inputfile)      # 读入数据\n",
    "\n",
    "data[u'线损率'] = (data[u'供入电量'] - data[u'供出电量'])/data[u'供入电量']    # 线损率计算公式"
   ]
  },
  {
   "cell_type": "code",
   "execution_count": 12,
   "metadata": {},
   "outputs": [
    {
     "name": "stderr",
     "output_type": "stream",
     "text": [
      "/var/folders/r6/jncwg9151xz9kkqq_ky369vw0000gn/T/ipykernel_47945/3906718243.py:2: FutureWarning: As the xlwt package is no longer maintained, the xlwt engine will be removed in a future version of pandas. This is the only engine in pandas that supports writing in the xls format. Install openpyxl and write to an xlsx file instead. You can set the option io.excel.xls.writer to 'xlwt' to silence this warning. While this option is deprecated and will also raise a warning, it can be globally set and the warning suppressed.\n",
      "  data.to_excel(outputfile, index = False) #将计算后的数据保存到文件夹中\n"
     ]
    }
   ],
   "source": [
    "import xlwt\n",
    "data.to_excel(outputfile, index = False)       # 将计算后的数据保存到文件夹中"
   ]
  }
 ],
 "metadata": {
  "kernelspec": {
   "display_name": "Python 3.8.13 ('pythonProject1')",
   "language": "python",
   "name": "python3"
  },
  "language_info": {
   "codemirror_mode": {
    "name": "ipython",
    "version": 3
   },
   "file_extension": ".py",
   "mimetype": "text/x-python",
   "name": "python",
   "nbconvert_exporter": "python",
   "pygments_lexer": "ipython3",
   "version": "3.8.13"
  },
  "orig_nbformat": 4,
  "vscode": {
   "interpreter": {
    "hash": "696ad129db3ec89cdd8358ad66cd82b6c56dd09411843a8c19ebee26f8d69acc"
   }
  }
 },
 "nbformat": 4,
 "nbformat_minor": 2
}
