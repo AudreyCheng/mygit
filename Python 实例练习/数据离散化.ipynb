{
 "cells": [
  {
   "cell_type": "code",
   "execution_count": 1,
   "metadata": {},
   "outputs": [],
   "source": [
    "#-*- coding: utf-8 -*-\n",
    "#数据规范化\n",
    "import pandas as pd\n",
    "\n",
    "# datafile = '/Users/admin/PycharmProjects/pythonProject1/python_da/chapter4/demo/data/discretization_data.xls' #参数初始化\n",
    "\n",
    "datafile = '/Users/admin/PycharmProjects/pythonProject1/python_da/chapter4/demo/data/discretization_data2.xls' #参数初始化\n",
    "\n",
    "data = pd.read_excel(datafile) #读取数据\n",
    "data = data[u'肝气郁结证型系数'].copy()\n",
    "k = 4"
   ]
  },
  {
   "cell_type": "code",
   "execution_count": 4,
   "metadata": {},
   "outputs": [],
   "source": [
    "d1 = pd.cut(data, k, labels = range(k)) #等宽离散化，各个类比依次命名为0,1,2,3"
   ]
  },
  {
   "cell_type": "code",
   "execution_count": 5,
   "metadata": {},
   "outputs": [],
   "source": [
    "def cluster_plot(d, k): #自定义作图函数来显示聚类结果\n",
    "  import matplotlib.pyplot as plt\n",
    "  plt.rcParams['font.sans-serif'] = ['SimHei'] #用来正常显示中文标签\n",
    "  plt.rcParams['axes.unicode_minus'] = False #用来正常显示负号\n",
    "  \n",
    "  plt.figure(figsize = (8, 3))\n",
    "  for j in range(0, k):\n",
    "    plt.plot(data[d==j], [j for i in d[d==j]], 'o')\n",
    "  \n",
    "  plt.ylim(-0.5, k-0.5)\n",
    "  return plt"
   ]
  },
  {
   "cell_type": "code",
   "execution_count": 6,
   "metadata": {},
   "outputs": [
    {
     "name": "stderr",
     "output_type": "stream",
     "text": [
      "findfont: Font family ['sans-serif'] not found. Falling back to DejaVu Sans.\n",
      "findfont: Generic family 'sans-serif' not found because none of the following families were found: SimHei\n"
     ]
    },
    {
     "data": {
      "image/png": "[encoded data removed]",
      "text/plain": [
       "<Figure size 576x216 with 1 Axes>"
      ]
     },
     "metadata": {
      "needs_background": "light"
     },
     "output_type": "display_data"
    }
   ],
   "source": [
    "cluster_plot(d1, k).show()"
   ]
  },
  {
   "cell_type": "code",
   "execution_count": 11,
   "metadata": {},
   "outputs": [
    {
     "ename": "ValueError",
     "evalue": "Bin edges must be unique: array([0.1111, 0.3333, 0.3333, 0.6667, 1.    ]).\nYou can drop duplicate edges by setting the 'duplicates' kwarg",
     "output_type": "error",
     "traceback": [
      "\u001b[0;31m---------------------------------------------------------------------------\u001b[0m",
      "\u001b[0;31mValueError\u001b[0m                                Traceback (most recent call last)",
      "\u001b[1;32m/Users/admin/PycharmProjects/pythonProject1/Python/数据离散化.ipynb Cell 5'\u001b[0m in \u001b[0;36m<cell line: 5>\u001b[0;34m()\u001b[0m\n\u001b[1;32m      <a href='vscode-notebook-cell:/Users/admin/PycharmProjects/pythonProject1/Python/%E6%95%B0%E6%8D%AE%E7%A6%BB%E6%95%A3%E5%8C%96.ipynb#ch0000004?line=2'>3</a>\u001b[0m w \u001b[39m=\u001b[39m data\u001b[39m.\u001b[39mdescribe(percentiles \u001b[39m=\u001b[39m w)[\u001b[39m4\u001b[39m:\u001b[39m4\u001b[39m\u001b[39m+\u001b[39mk\u001b[39m+\u001b[39m\u001b[39m1\u001b[39m] \u001b[39m#使用describe函数自动计算分位数\u001b[39;00m\n\u001b[1;32m      <a href='vscode-notebook-cell:/Users/admin/PycharmProjects/pythonProject1/Python/%E6%95%B0%E6%8D%AE%E7%A6%BB%E6%95%A3%E5%8C%96.ipynb#ch0000004?line=3'>4</a>\u001b[0m w[\u001b[39m0\u001b[39m] \u001b[39m=\u001b[39m w[\u001b[39m0\u001b[39m]\u001b[39m*\u001b[39m(\u001b[39m1\u001b[39m\u001b[39m-\u001b[39m\u001b[39m1e-10\u001b[39m)\n\u001b[0;32m----> <a href='vscode-notebook-cell:/Users/admin/PycharmProjects/pythonProject1/Python/%E6%95%B0%E6%8D%AE%E7%A6%BB%E6%95%A3%E5%8C%96.ipynb#ch0000004?line=4'>5</a>\u001b[0m d2 \u001b[39m=\u001b[39m pd\u001b[39m.\u001b[39;49mcut(data, w, labels \u001b[39m=\u001b[39;49m \u001b[39mrange\u001b[39;49m(k))\n\u001b[1;32m      <a href='vscode-notebook-cell:/Users/admin/PycharmProjects/pythonProject1/Python/%E6%95%B0%E6%8D%AE%E7%A6%BB%E6%95%A3%E5%8C%96.ipynb#ch0000004?line=5'>6</a>\u001b[0m d2\n",
      "File \u001b[0;32m~/opt/anaconda3/envs/pythonProject1/lib/python3.8/site-packages/pandas/core/reshape/tile.py:292\u001b[0m, in \u001b[0;36mcut\u001b[0;34m(x, bins, right, labels, retbins, precision, include_lowest, duplicates, ordered)\u001b[0m\n\u001b[1;32m    289\u001b[0m     \u001b[39mif\u001b[39;00m (np\u001b[39m.\u001b[39mdiff(bins\u001b[39m.\u001b[39mastype(\u001b[39m\"\u001b[39m\u001b[39mfloat64\u001b[39m\u001b[39m\"\u001b[39m)) \u001b[39m<\u001b[39m \u001b[39m0\u001b[39m)\u001b[39m.\u001b[39many():\n\u001b[1;32m    290\u001b[0m         \u001b[39mraise\u001b[39;00m \u001b[39mValueError\u001b[39;00m(\u001b[39m\"\u001b[39m\u001b[39mbins must increase monotonically.\u001b[39m\u001b[39m\"\u001b[39m)\n\u001b[0;32m--> 292\u001b[0m fac, bins \u001b[39m=\u001b[39m _bins_to_cuts(\n\u001b[1;32m    293\u001b[0m     x,\n\u001b[1;32m    294\u001b[0m     bins,\n\u001b[1;32m    295\u001b[0m     right\u001b[39m=\u001b[39;49mright,\n\u001b[1;32m    296\u001b[0m     labels\u001b[39m=\u001b[39;49mlabels,\n\u001b[1;32m    297\u001b[0m     precision\u001b[39m=\u001b[39;49mprecision,\n\u001b[1;32m    298\u001b[0m     include_lowest\u001b[39m=\u001b[39;49minclude_lowest,\n\u001b[1;32m    299\u001b[0m     dtype\u001b[39m=\u001b[39;49mdtype,\n\u001b[1;32m    300\u001b[0m     duplicates\u001b[39m=\u001b[39;49mduplicates,\n\u001b[1;32m    301\u001b[0m     ordered\u001b[39m=\u001b[39;49mordered,\n\u001b[1;32m    302\u001b[0m )\n\u001b[1;32m    304\u001b[0m \u001b[39mreturn\u001b[39;00m _postprocess_for_cut(fac, bins, retbins, dtype, original)\n",
      "File \u001b[0;32m~/opt/anaconda3/envs/pythonProject1/lib/python3.8/site-packages/pandas/core/reshape/tile.py:419\u001b[0m, in \u001b[0;36m_bins_to_cuts\u001b[0;34m(x, bins, right, labels, precision, include_lowest, dtype, duplicates, ordered)\u001b[0m\n\u001b[1;32m    417\u001b[0m \u001b[39mif\u001b[39;00m \u001b[39mlen\u001b[39m(unique_bins) \u001b[39m<\u001b[39m \u001b[39mlen\u001b[39m(bins) \u001b[39mand\u001b[39;00m \u001b[39mlen\u001b[39m(bins) \u001b[39m!=\u001b[39m \u001b[39m2\u001b[39m:\n\u001b[1;32m    418\u001b[0m     \u001b[39mif\u001b[39;00m duplicates \u001b[39m==\u001b[39m \u001b[39m\"\u001b[39m\u001b[39mraise\u001b[39m\u001b[39m\"\u001b[39m:\n\u001b[0;32m--> 419\u001b[0m         \u001b[39mraise\u001b[39;00m \u001b[39mValueError\u001b[39;00m(\n\u001b[1;32m    420\u001b[0m             \u001b[39mf\u001b[39m\u001b[39m\"\u001b[39m\u001b[39mBin edges must be unique: \u001b[39m\u001b[39m{\u001b[39;00m\u001b[39mrepr\u001b[39m(bins)\u001b[39m}\u001b[39;00m\u001b[39m.\u001b[39m\u001b[39m\\n\u001b[39;00m\u001b[39m\"\u001b[39m\n\u001b[1;32m    421\u001b[0m             \u001b[39mf\u001b[39m\u001b[39m\"\u001b[39m\u001b[39mYou can drop duplicate edges by setting the \u001b[39m\u001b[39m'\u001b[39m\u001b[39mduplicates\u001b[39m\u001b[39m'\u001b[39m\u001b[39m kwarg\u001b[39m\u001b[39m\"\u001b[39m\n\u001b[1;32m    422\u001b[0m         )\n\u001b[1;32m    423\u001b[0m     \u001b[39melse\u001b[39;00m:\n\u001b[1;32m    424\u001b[0m         bins \u001b[39m=\u001b[39m unique_bins\n",
      "\u001b[0;31mValueError\u001b[0m: Bin edges must be unique: array([0.1111, 0.3333, 0.3333, 0.6667, 1.    ]).\nYou can drop duplicate edges by setting the 'duplicates' kwarg"
     ]
    }
   ],
   "source": [
    "#等频率离散化\n",
    "w = [1.0*i/k for i in range(k+1)]\n",
    "w = data.describe(percentiles = w)[4:4+k+1] #使用describe函数自动计算分位数\n",
    "w[0] = w[0]*(1-1e-10)\n",
    "d2 = pd.cut(data, w, labels = range(k))"
   ]
  },
  {
   "cell_type": "code",
   "execution_count": 9,
   "metadata": {},
   "outputs": [
    {
     "ename": "NameError",
     "evalue": "name 'd2' is not defined",
     "output_type": "error",
     "traceback": [
      "\u001b[0;31m---------------------------------------------------------------------------\u001b[0m",
      "\u001b[0;31mNameError\u001b[0m                                 Traceback (most recent call last)",
      "\u001b[1;32m/Users/admin/PycharmProjects/pythonProject1/Python/数据离散化.ipynb Cell 6'\u001b[0m in \u001b[0;36m<cell line: 1>\u001b[0;34m()\u001b[0m\n\u001b[0;32m----> <a href='vscode-notebook-cell:/Users/admin/PycharmProjects/pythonProject1/Python/%E6%95%B0%E6%8D%AE%E7%A6%BB%E6%95%A3%E5%8C%96.ipynb#ch0000005?line=0'>1</a>\u001b[0m cluster_plot(d2, k)\u001b[39m.\u001b[39mshow()\n",
      "\u001b[0;31mNameError\u001b[0m: name 'd2' is not defined"
     ]
    }
   ],
   "source": [
    "cluster_plot(d2, k).show()"
   ]
  },
  {
   "cell_type": "code",
   "execution_count": 25,
   "metadata": {},
   "outputs": [],
   "source": [
    "from sklearn.cluster import KMeans #引入KMeans\n",
    "kmodel = KMeans(n_clusters = k) #建立模型，n_jobs是并行数，一般等于CPU数较好\n",
    "kmodel.fit(data.values.reshape((len(data), 1))) #训练模型\n",
    "c = pd.DataFrame(kmodel.cluster_centers_).sort_values(0) #输出聚类中心，并且排序（默认是随机序的）\n",
    "\n",
    "# w = pd.rolling_mean(c, 2).iloc[1:] #相邻两项求中点，作为边界点\n",
    "w = c.rolling(2).mean().iloc[1:] #相邻两项求中点，作为边界点\n",
    "\n",
    "w = [0] + list(w[0]) + [data.max()] #把首末边界点加上\n",
    "d3 = pd.cut(data, w, labels = range(k))\n",
    "\n",
    "\n",
    "# moving_avg = pd.rolling_mean(ts_log,12)\n",
    "# moving_avg = ts_log.rolling(12).mean()"
   ]
  },
  {
   "cell_type": "code",
   "execution_count": 26,
   "metadata": {},
   "outputs": [
    {
     "data": {
      "image/png": "[encoded data removed]",
      "text/plain": [
       "<Figure size 576x216 with 1 Axes>"
      ]
     },
     "metadata": {
      "needs_background": "light"
     },
     "output_type": "display_data"
    }
   ],
   "source": [
    "cluster_plot(d3, k).show()"
   ]
  }
 ],
 "metadata": {
  "kernelspec": {
   "display_name": "Python 3.8.13 ('pythonProject1')",
   "language": "python",
   "name": "python3"
  },
  "language_info": {
   "codemirror_mode": {
    "name": "ipython",
    "version": 3
   },
   "file_extension": ".py",
   "mimetype": "text/x-python",
   "name": "python",
   "nbconvert_exporter": "python",
   "pygments_lexer": "ipython3",
   "version": "3.8.13"
  },
  "orig_nbformat": 4,
  "vscode": {
   "interpreter": {
    "hash": "696ad129db3ec89cdd8358ad66cd82b6c56dd09411843a8c19ebee26f8d69acc"
   }
  }
 },
 "nbformat": 4,
 "nbformat_minor": 2
}
