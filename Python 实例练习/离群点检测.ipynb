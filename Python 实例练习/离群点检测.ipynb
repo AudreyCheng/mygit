{
 "cells": [
  {
   "cell_type": "code",
   "execution_count": 8,
   "metadata": {},
   "outputs": [
    {
     "name": "stderr",
     "output_type": "stream",
     "text": [
      "/Users/admin/opt/anaconda3/envs/pythonProject1/lib/python3.8/site-packages/IPython/core/pylabtools.py:151: UserWarning: Glyph 32534 (\\N{CJK UNIFIED IDEOGRAPH-7F16}) missing from current font.\n",
      "  fig.canvas.print_figure(bytes_io, **kw)\n",
      "/Users/admin/opt/anaconda3/envs/pythonProject1/lib/python3.8/site-packages/IPython/core/pylabtools.py:151: UserWarning: Glyph 21495 (\\N{CJK UNIFIED IDEOGRAPH-53F7}) missing from current font.\n",
      "  fig.canvas.print_figure(bytes_io, **kw)\n",
      "/Users/admin/opt/anaconda3/envs/pythonProject1/lib/python3.8/site-packages/IPython/core/pylabtools.py:151: UserWarning: Glyph 30456 (\\N{CJK UNIFIED IDEOGRAPH-76F8}) missing from current font.\n",
      "  fig.canvas.print_figure(bytes_io, **kw)\n",
      "/Users/admin/opt/anaconda3/envs/pythonProject1/lib/python3.8/site-packages/IPython/core/pylabtools.py:151: UserWarning: Glyph 23545 (\\N{CJK UNIFIED IDEOGRAPH-5BF9}) missing from current font.\n",
      "  fig.canvas.print_figure(bytes_io, **kw)\n",
      "/Users/admin/opt/anaconda3/envs/pythonProject1/lib/python3.8/site-packages/IPython/core/pylabtools.py:151: UserWarning: Glyph 36317 (\\N{CJK UNIFIED IDEOGRAPH-8DDD}) missing from current font.\n",
      "  fig.canvas.print_figure(bytes_io, **kw)\n",
      "/Users/admin/opt/anaconda3/envs/pythonProject1/lib/python3.8/site-packages/IPython/core/pylabtools.py:151: UserWarning: Glyph 31163 (\\N{CJK UNIFIED IDEOGRAPH-79BB}) missing from current font.\n",
      "  fig.canvas.print_figure(bytes_io, **kw)\n"
     ]
    },
    {
     "data": {
      "image/png": "[encoded data removed]",
      "text/plain": [
       "<Figure size 432x288 with 1 Axes>"
      ]
     },
     "metadata": {
      "needs_background": "light"
     },
     "output_type": "display_data"
    }
   ],
   "source": [
    "#-*- coding: utf-8 -*-\n",
    "#使用K-Means算法聚类消费行为特征数据\n",
    "\n",
    "import numpy as np\n",
    "import pandas as pd\n",
    "\n",
    "#参数初始化\n",
    "# inputfile = '/Users/admin/PycharmProjects/pythonProject1/python_da/chapter5/demo/data/play_total.xlsx' # 播放次数明细\n",
    "# outputfile = '/Users/admin/PycharmProjects/pythonProject1/python_da/chapter5/demo/tmp/playtime_tpye.xlsx' #保存结果的文件名\n",
    "\n",
    "# inputfile = '/Users/admin/PycharmProjects/pythonProject1/python_da/chapter5/demo/data/consumption_data.xls' #销量及其他属性数据\n",
    "# outputfile = '/Users/admin/PycharmProjects/pythonProject1/python_da/chapter5/demo/tmp/cm_plot_tpye.xlsx' #保存结果的文件名\n",
    "\n",
    "inputfile = '/Users/admin/PycharmProjects/pythonProject1/python_da/chapter5/demo/data/playtime.xlsx'        # 播放时长数据\n",
    "outputfile = '/Users/admin/PycharmProjects/pythonProject1/python_da/chapter5/demo/tmp/playtime_tpye1.xlsx'  # 保存结果的文件名\n",
    "\n",
    "\n",
    "k = 2 #聚类的类别\n",
    "threshold = 20 #【离散点阈值】\n",
    "iteration =1000 #聚类最大循环次数\n",
    "data = pd.read_excel(inputfile, index_col = 'id') #读取数据\n",
    "data_zs = 1.0*(data - data.mean())/data.std() #数据标准化\n",
    "\n",
    "\n",
    "from sklearn.cluster import KMeans\n",
    "model = KMeans(n_clusters = k, max_iter = iteration) #分为k类，并发数4\n",
    "model.fit(data_zs) #开始聚类\n",
    "\n",
    "\n",
    "#标准化数据及其类别，详细输出原始数据及其类别\n",
    "r = pd.concat([data_zs, pd.Series(model.labels_, index = data.index)], axis = 1)  #每个样本对应的类别\n",
    "r.columns = list(data.columns) + [u'聚类类别'] #重命名表头\n",
    "r.to_excel(outputfile) #保存结果\n",
    "\n",
    "norm = []\n",
    "for i in range(k): #逐一处理\n",
    "#   norm_tmp = r[['R', 'F', 'M']][r[u'聚类类别'] == i]-model.cluster_centers_[i]\n",
    "  norm_tmp = r[['h']][r[u'聚类类别'] == i]-model.cluster_centers_[i]\n",
    "  norm_tmp = norm_tmp.apply(np.linalg.norm, axis = 1) #求出绝对距离\n",
    "  norm.append(norm_tmp/norm_tmp.median()) #求相对距离并添加\n",
    "\n",
    "norm = pd.concat(norm) #合并\n",
    "\n",
    "import matplotlib.pyplot as plt\n",
    "plt.rcParams['font.sans-serif'] = ['SimHei'] #用来正常显示中文标签\n",
    "plt.rcParams['axes.unicode_minus'] = False #用来正常显示负号\n",
    "norm[norm <= threshold].plot(style = 'go') #正常点\n",
    "\n",
    "discrete_points = norm[norm > threshold] #离群点\n",
    "discrete_points.plot(style = 'ro')\n",
    "\n",
    "for i in range(len(discrete_points)): #离群点做标记\n",
    "  id = discrete_points.index[i]\n",
    "  n = discrete_points.iloc[i]\n",
    "  plt.annotate('(%s, %0.2f)'%(id, n), xy = (id, n), xytext = (id, n))\n",
    "\n",
    "plt.xlabel(u'编号')\n",
    "plt.ylabel(u'相对距离')\n",
    "plt.show()\n",
    "\n"
   ]
  }
 ],
 "metadata": {
  "kernelspec": {
   "display_name": "Python 3.8.13 ('pythonProject1')",
   "language": "python",
   "name": "python3"
  },
  "language_info": {
   "codemirror_mode": {
    "name": "ipython",
    "version": 3
   },
   "file_extension": ".py",
   "mimetype": "text/x-python",
   "name": "python",
   "nbconvert_exporter": "python",
   "pygments_lexer": "ipython3",
   "version": "3.8.13"
  },
  "orig_nbformat": 4,
  "vscode": {
   "interpreter": {
    "hash": "696ad129db3ec89cdd8358ad66cd82b6c56dd09411843a8c19ebee26f8d69acc"
   }
  }
 },
 "nbformat": 4,
 "nbformat_minor": 2
}
