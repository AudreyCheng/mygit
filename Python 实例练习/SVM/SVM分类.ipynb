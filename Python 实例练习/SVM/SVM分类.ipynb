{
 "cells": [
  {
   "cell_type": "code",
   "execution_count": 13,
   "metadata": {},
   "outputs": [],
   "source": [
    "from sklearn import svm\n",
    "import numpy as np\n",
    "import matplotlib.pyplot as plt\n",
    "import matplotlib as mpl\n",
    "import pandas as pd\n",
    "from matplotlib import colors\n",
    "from sklearn.model_selection import train_test_split"
   ]
  },
  {
   "cell_type": "code",
   "execution_count": 15,
   "metadata": {},
   "outputs": [],
   "source": [
    "# 当使用numpy中的loadtxt函数导入该数据集时，假设数据类型dtype为浮点型，但是很明显第五列的数据类型并不是浮点型。\n",
    "# 　　因此我们要额外做一个工作，即通过loadtxt()函数中的converters参数将第五列通过转换函数映射成浮点类型的数据。\n",
    "# 　　首先，我们要写出一个转换函数\n",
    "\n",
    "def iris_type(s):\n",
    "    it = {b'Iris-setosa': 0, b'Iris-versicolor': 1, b'Iris-virginica': 2}\n",
    "    return it[s]\n",
    " \n",
    " \n",
    "path = '/Users/admin/PycharmProjects/pythonProject1/Python/SVM/iris.data'  # 数据文件路径\n",
    "\n",
    "# 接下来读入数据，converters={4: iris_type}中“4”指的是第5列：\n",
    "data = np.loadtxt(path, dtype=float, delimiter=',', converters={4: iris_type})\n",
    "\n",
    "\n",
    "# data = pd.read_excel(path, '/Users/admin/PycharmProjects/pythonProject1/Python/SVM/iris.xlsx' )\n",
    "# data.head()"
   ]
  },
  {
   "cell_type": "code",
   "execution_count": 16,
   "metadata": {},
   "outputs": [
    {
     "name": "stdout",
     "output_type": "stream",
     "text": [
      "0.8666666666666667\n",
      "0.65\n"
     ]
    }
   ],
   "source": [
    "# 1. split(数据，分割位置，轴=1（水平分割） or 0（垂直分割）)。\n",
    "x, y = np.split(data, (4,), axis=1)\n",
    "\n",
    "# 2. x = x[:, :2]是为方便后期画图更直观，故只取了前两列特征值向量训练。\n",
    "x = x[:, :2]\n",
    "\n",
    "# sklearn.model_selection.train_test_split随机划分训练集与测试集。train_test_split(train_data,train_target,test_size=数字, random_state=0)\n",
    "x_train, x_test, y_train, y_test = train_test_split(x, y, random_state=1, train_size=0.6)\n",
    " \n",
    "# clf = svm.SVC(C=0.1, kernel='linear', decision_function_shape='ovr')\n",
    "clf = svm.SVC(C=0.8, kernel='rbf', gamma=20, decision_function_shape='ovr')\n",
    "clf.fit(x_train, y_train.ravel())\n",
    " \n",
    "print(clf.score(x_train, y_train))  # 精度\n",
    "y_hat = clf.predict(x_train)\n",
    " \n",
    "print(clf.score(x_test, y_test))\n",
    "y_hat2 = clf.predict(x_test)\n",
    " \n",
    "x1_min, x1_max = x[:, 0].min(), x[:, 0].max()  # 第0列的范围\n",
    "x2_min, x2_max = x[:, 1].min(), x[:, 1].max()  # 第1列的范围\n",
    "x1, x2 = np.mgrid[x1_min:x1_max:200j, x2_min:x2_max:200j]  # 生成网格采样点\n",
    "grid_test = np.stack((x1.flat, x2.flat), axis=1)  # 测试点\n",
    " \n",
    "mpl.rcParams['font.sans-serif'] = [u'SimHei']\n",
    "mpl.rcParams['axes.unicode_minus'] = False\n"
   ]
  },
  {
   "cell_type": "code",
   "execution_count": 17,
   "metadata": {},
   "outputs": [
    {
     "name": "stderr",
     "output_type": "stream",
     "text": [
      "findfont: Font family ['sans-serif'] not found. Falling back to DejaVu Sans.\n",
      "findfont: Generic family 'sans-serif' not found because none of the following families were found: SimHei\n",
      "/Users/admin/opt/anaconda3/envs/pythonProject1/lib/python3.8/site-packages/IPython/core/pylabtools.py:151: UserWarning: Glyph 20998 (\\N{CJK UNIFIED IDEOGRAPH-5206}) missing from current font.\n",
      "  fig.canvas.print_figure(bytes_io, **kw)\n",
      "/Users/admin/opt/anaconda3/envs/pythonProject1/lib/python3.8/site-packages/IPython/core/pylabtools.py:151: UserWarning: Glyph 31867 (\\N{CJK UNIFIED IDEOGRAPH-7C7B}) missing from current font.\n",
      "  fig.canvas.print_figure(bytes_io, **kw)\n",
      "findfont: Font family ['sans-serif'] not found. Falling back to DejaVu Sans.\n",
      "findfont: Generic family 'sans-serif' not found because none of the following families were found: SimHei\n",
      "findfont: Font family ['sans-serif'] not found. Falling back to DejaVu Sans.\n",
      "findfont: Generic family 'sans-serif' not found because none of the following families were found: SimHei\n",
      "/Users/admin/opt/anaconda3/envs/pythonProject1/lib/python3.8/site-packages/IPython/core/pylabtools.py:151: UserWarning: Glyph 33457 (\\N{CJK UNIFIED IDEOGRAPH-82B1}) missing from current font.\n",
      "  fig.canvas.print_figure(bytes_io, **kw)\n",
      "/Users/admin/opt/anaconda3/envs/pythonProject1/lib/python3.8/site-packages/IPython/core/pylabtools.py:151: UserWarning: Glyph 33852 (\\N{CJK UNIFIED IDEOGRAPH-843C}) missing from current font.\n",
      "  fig.canvas.print_figure(bytes_io, **kw)\n",
      "/Users/admin/opt/anaconda3/envs/pythonProject1/lib/python3.8/site-packages/IPython/core/pylabtools.py:151: UserWarning: Glyph 38271 (\\N{CJK UNIFIED IDEOGRAPH-957F}) missing from current font.\n",
      "  fig.canvas.print_figure(bytes_io, **kw)\n",
      "/Users/admin/opt/anaconda3/envs/pythonProject1/lib/python3.8/site-packages/IPython/core/pylabtools.py:151: UserWarning: Glyph 24230 (\\N{CJK UNIFIED IDEOGRAPH-5EA6}) missing from current font.\n",
      "  fig.canvas.print_figure(bytes_io, **kw)\n",
      "/Users/admin/opt/anaconda3/envs/pythonProject1/lib/python3.8/site-packages/IPython/core/pylabtools.py:151: UserWarning: Glyph 23485 (\\N{CJK UNIFIED IDEOGRAPH-5BBD}) missing from current font.\n",
      "  fig.canvas.print_figure(bytes_io, **kw)\n"
     ]
    },
    {
     "data": {
      "image/png": "[encoded data removed]",
      "text/plain": [
       "<Figure size 432x288 with 1 Axes>"
      ]
     },
     "metadata": {
      "needs_background": "light"
     },
     "output_type": "display_data"
    }
   ],
   "source": [
    "cm_light = mpl.colors.ListedColormap(['#A0FFA0', '#FFA0A0', '#A0A0FF'])\n",
    "cm_dark = mpl.colors.ListedColormap(['g', 'r', 'b'])\n",
    " \n",
    "grid_hat = clf.predict(grid_test)  # 预测分类值\n",
    "grid_hat = grid_hat.reshape(x1.shape)  # 使之与输入的形状相同\n",
    " \n",
    "alpha = 0.5\n",
    "plt.pcolormesh(x1, x2, grid_hat, cmap=cm_light)  # 预测值的显示\n",
    "plt.plot(x[:, 0], x[:, 1], 'o', alpha=alpha, color='blue', markeredgecolor='k')\n",
    "plt.scatter(x_test[:, 0], x_test[:, 1], s=120, facecolors='none', zorder=10)  # 圈中测试集样本\n",
    "plt.xlabel(u'花萼长度', fontsize=13)\n",
    "plt.ylabel(u'花萼宽度', fontsize=13)\n",
    "plt.xlim(x1_min, x1_max)\n",
    "plt.ylim(x2_min, x2_max)\n",
    "plt.title(u'SVM分类', fontsize=15)\n",
    "plt.show()"
   ]
  }
 ],
 "metadata": {
  "kernelspec": {
   "display_name": "Python 3.8.13 ('pythonProject1')",
   "language": "python",
   "name": "python3"
  },
  "language_info": {
   "codemirror_mode": {
    "name": "ipython",
    "version": 3
   },
   "file_extension": ".py",
   "mimetype": "text/x-python",
   "name": "python",
   "nbconvert_exporter": "python",
   "pygments_lexer": "ipython3",
   "version": "3.8.13"
  },
  "orig_nbformat": 4,
  "vscode": {
   "interpreter": {
    "hash": "696ad129db3ec89cdd8358ad66cd82b6c56dd09411843a8c19ebee26f8d69acc"
   }
  }
 },
 "nbformat": 4,
 "nbformat_minor": 2
}
