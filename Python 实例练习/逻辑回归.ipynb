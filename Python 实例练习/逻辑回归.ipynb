{
 "cells": [
  {
   "cell_type": "code",
   "execution_count": 1,
   "metadata": {},
   "outputs": [],
   "source": [
    "# 实例：对某银行在降低贷款拖欠率的数据进行逻辑回归建模\n",
    "# -*-  coding:utf-8  -*-\n",
    "#逻辑回归，自动建模\n",
    "import pandas as pd"
   ]
  },
  {
   "cell_type": "code",
   "execution_count": 2,
   "metadata": {},
   "outputs": [
    {
     "data": {
      "text/html": [
       "<div>\n",
       "<style scoped>\n",
       "    .dataframe tbody tr th:only-of-type {\n",
       "        vertical-align: middle;\n",
       "    }\n",
       "\n",
       "    .dataframe tbody tr th {\n",
       "        vertical-align: top;\n",
       "    }\n",
       "\n",
       "    .dataframe thead th {\n",
       "        text-align: right;\n",
       "    }\n",
       "</style>\n",
       "<table border=\"1\" class=\"dataframe\">\n",
       "  <thead>\n",
       "    <tr style=\"text-align: right;\">\n",
       "      <th></th>\n",
       "      <th>年龄</th>\n",
       "      <th>教育</th>\n",
       "      <th>工龄</th>\n",
       "      <th>地址</th>\n",
       "      <th>收入</th>\n",
       "      <th>负债率</th>\n",
       "      <th>信用卡负债</th>\n",
       "      <th>其他负债</th>\n",
       "      <th>违约</th>\n",
       "    </tr>\n",
       "  </thead>\n",
       "  <tbody>\n",
       "    <tr>\n",
       "      <th>0</th>\n",
       "      <td>41</td>\n",
       "      <td>3</td>\n",
       "      <td>17</td>\n",
       "      <td>12</td>\n",
       "      <td>176</td>\n",
       "      <td>9.3</td>\n",
       "      <td>11.359392</td>\n",
       "      <td>5.008608</td>\n",
       "      <td>1</td>\n",
       "    </tr>\n",
       "    <tr>\n",
       "      <th>1</th>\n",
       "      <td>27</td>\n",
       "      <td>1</td>\n",
       "      <td>10</td>\n",
       "      <td>6</td>\n",
       "      <td>31</td>\n",
       "      <td>17.3</td>\n",
       "      <td>1.362202</td>\n",
       "      <td>4.000798</td>\n",
       "      <td>0</td>\n",
       "    </tr>\n",
       "    <tr>\n",
       "      <th>2</th>\n",
       "      <td>40</td>\n",
       "      <td>1</td>\n",
       "      <td>15</td>\n",
       "      <td>14</td>\n",
       "      <td>55</td>\n",
       "      <td>5.5</td>\n",
       "      <td>0.856075</td>\n",
       "      <td>2.168925</td>\n",
       "      <td>0</td>\n",
       "    </tr>\n",
       "    <tr>\n",
       "      <th>3</th>\n",
       "      <td>41</td>\n",
       "      <td>1</td>\n",
       "      <td>15</td>\n",
       "      <td>14</td>\n",
       "      <td>120</td>\n",
       "      <td>2.9</td>\n",
       "      <td>2.658720</td>\n",
       "      <td>0.821280</td>\n",
       "      <td>0</td>\n",
       "    </tr>\n",
       "    <tr>\n",
       "      <th>4</th>\n",
       "      <td>24</td>\n",
       "      <td>2</td>\n",
       "      <td>2</td>\n",
       "      <td>0</td>\n",
       "      <td>28</td>\n",
       "      <td>17.3</td>\n",
       "      <td>1.787436</td>\n",
       "      <td>3.056564</td>\n",
       "      <td>1</td>\n",
       "    </tr>\n",
       "  </tbody>\n",
       "</table>\n",
       "</div>"
      ],
      "text/plain": [
       "   年龄  教育  工龄  地址   收入   负债率      信用卡负债      其他负债  违约\n",
       "0  41   3  17  12  176   9.3  11.359392  5.008608   1\n",
       "1  27   1  10   6   31  17.3   1.362202  4.000798   0\n",
       "2  40   1  15  14   55   5.5   0.856075  2.168925   0\n",
       "3  41   1  15  14  120   2.9   2.658720  0.821280   0\n",
       "4  24   2   2   0   28  17.3   1.787436  3.056564   1"
      ]
     },
     "execution_count": 2,
     "metadata": {},
     "output_type": "execute_result"
    }
   ],
   "source": [
    "# 参数初始化\n",
    "filename = '/Users/admin/PycharmProjects/pythonProject1/python_da/chapter5/demo/data/bankloan.xls'\n",
    "data = pd.read_excel(filename)\n",
    "data.head()"
   ]
  },
  {
   "cell_type": "code",
   "execution_count": 3,
   "metadata": {},
   "outputs": [],
   "source": [
    "# data.iloc[:,:8]"
   ]
  },
  {
   "cell_type": "code",
   "execution_count": 4,
   "metadata": {},
   "outputs": [],
   "source": [
    "# data.iloc[:,8]  # 取表格中第9列数据"
   ]
  },
  {
   "cell_type": "code",
   "execution_count": 5,
   "metadata": {},
   "outputs": [],
   "source": [
    "# data.iloc[ A:B ,C:D ]   用法：逗号前面表示的是取哪些行，逗号后面表示取哪些列\n",
    "\n",
    "x = data.iloc[:,:8].values   # 取表格中前8列的数据作为x变量\n",
    "y = data.iloc[:,8].values    # 取表格中引索为8的即第九列数据为y因变量"
   ]
  },
  {
   "cell_type": "code",
   "execution_count": 6,
   "metadata": {},
   "outputs": [
    {
     "ename": "ImportError",
     "evalue": "cannot import name 'RandomizedLogisticRegression' from 'sklearn.linear_model' (/Users/admin/opt/anaconda3/envs/pythonProject1/lib/python3.8/site-packages/sklearn/linear_model/__init__.py)",
     "output_type": "error",
     "traceback": [
      "\u001b[0;31m---------------------------------------------------------------------------\u001b[0m",
      "\u001b[0;31mImportError\u001b[0m                               Traceback (most recent call last)",
      "\u001b[1;32m/Users/admin/PycharmProjects/pythonProject1/Python/逻辑回归.ipynb Cell 6'\u001b[0m in \u001b[0;36m<cell line: 2>\u001b[0;34m()\u001b[0m\n\u001b[1;32m      <a href='vscode-notebook-cell:/Users/admin/PycharmProjects/pythonProject1/Python/%E9%80%BB%E8%BE%91%E5%9B%9E%E5%BD%92.ipynb#ch0000005?line=0'>1</a>\u001b[0m \u001b[39mfrom\u001b[39;00m \u001b[39msklearn\u001b[39;00m\u001b[39m.\u001b[39;00m\u001b[39mlinear_model\u001b[39;00m \u001b[39mimport\u001b[39;00m LogisticRegression \u001b[39mas\u001b[39;00m LR\n\u001b[0;32m----> <a href='vscode-notebook-cell:/Users/admin/PycharmProjects/pythonProject1/Python/%E9%80%BB%E8%BE%91%E5%9B%9E%E5%BD%92.ipynb#ch0000005?line=1'>2</a>\u001b[0m \u001b[39mfrom\u001b[39;00m \u001b[39msklearn\u001b[39;00m\u001b[39m.\u001b[39;00m\u001b[39mlinear_model\u001b[39;00m \u001b[39mimport\u001b[39;00m RandomizedLogisticRegression \u001b[39mas\u001b[39;00m RLR \n\u001b[1;32m      <a href='vscode-notebook-cell:/Users/admin/PycharmProjects/pythonProject1/Python/%E9%80%BB%E8%BE%91%E5%9B%9E%E5%BD%92.ipynb#ch0000005?line=2'>3</a>\u001b[0m rlr \u001b[39m=\u001b[39m RLR()    \u001b[39m# 建立随机逻辑回归模型，筛选变量\u001b[39;00m\n\u001b[1;32m      <a href='vscode-notebook-cell:/Users/admin/PycharmProjects/pythonProject1/Python/%E9%80%BB%E8%BE%91%E5%9B%9E%E5%BD%92.ipynb#ch0000005?line=3'>4</a>\u001b[0m rlr\u001b[39m.\u001b[39mfit(x,y)   \u001b[39m# 训练模型\u001b[39;00m\n",
      "\u001b[0;31mImportError\u001b[0m: cannot import name 'RandomizedLogisticRegression' from 'sklearn.linear_model' (/Users/admin/opt/anaconda3/envs/pythonProject1/lib/python3.8/site-packages/sklearn/linear_model/__init__.py)"
     ]
    }
   ],
   "source": [
    "from sklearn.linear_model import LogisticRegression as LR\n",
    "from sklearn.linear_model import RandomizedLogisticRegression as RLR \n",
    "rlr = RLR()    # 建立随机逻辑回归模型，筛选变量\n",
    "rlr.fit(x,y)   # 训练模型\n",
    "rlr.get_support()    # 获取特征筛选结果，也可以通过.scores_ 方法获取各个特征的分数\n",
    "# rlr.scores_support()  \n",
    "print(u'通过随机逻辑回归模型筛选特征结束')\n",
    "print(u'有效特征为：%s' % ','.join(data.columns[rlr.get_support()]))   \n",
    "x = data[data.columns[rlr.get_support()]].as_matrix()    # 筛选好特征\n",
    "x"
   ]
  },
  {
   "cell_type": "code",
   "execution_count": null,
   "metadata": {},
   "outputs": [
    {
     "name": "stdout",
     "output_type": "stream",
     "text": [
      "逻辑回归模型训练结果\n",
      "模型的平均正确率为：0.8085714285714286\n"
     ]
    },
    {
     "name": "stderr",
     "output_type": "stream",
     "text": [
      "/Users/admin/opt/anaconda3/envs/pythonProject1/lib/python3.8/site-packages/sklearn/linear_model/_logistic.py:444: ConvergenceWarning: lbfgs failed to converge (status=1):\n",
      "STOP: TOTAL NO. of ITERATIONS REACHED LIMIT.\n",
      "\n",
      "Increase the number of iterations (max_iter) or scale the data as shown in:\n",
      "    https://scikit-learn.org/stable/modules/preprocessing.html\n",
      "Please also refer to the documentation for alternative solver options:\n",
      "    https://scikit-learn.org/stable/modules/linear_model.html#logistic-regression\n",
      "  n_iter_i = _check_optimize_result(\n"
     ]
    }
   ],
   "source": [
    "lr = LR()    # 建立逻辑货柜模型\n",
    "lr.fit(x,y)    # 用筛选后的特征数据来训练模型\n",
    "print(u'逻辑回归模型训练结果')\n",
    "print(u'模型的平均正确率为：%s' % lr.score(x,y))     # 给出模型的平均正确率，本案例为81.4%"
   ]
  }
 ],
 "metadata": {
  "kernelspec": {
   "display_name": "Python 3.8.13 ('pythonProject1')",
   "language": "python",
   "name": "python3"
  },
  "language_info": {
   "codemirror_mode": {
    "name": "ipython",
    "version": 3
   },
   "file_extension": ".py",
   "mimetype": "text/x-python",
   "name": "python",
   "nbconvert_exporter": "python",
   "pygments_lexer": "ipython3",
   "version": "3.8.13"
  },
  "orig_nbformat": 4,
  "vscode": {
   "interpreter": {
    "hash": "696ad129db3ec89cdd8358ad66cd82b6c56dd09411843a8c19ebee26f8d69acc"
   }
  }
 },
 "nbformat": 4,
 "nbformat_minor": 2
}
