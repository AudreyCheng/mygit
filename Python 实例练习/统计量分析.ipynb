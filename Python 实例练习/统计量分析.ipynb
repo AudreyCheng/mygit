{
 "cells": [
  {
   "cell_type": "code",
   "execution_count": 7,
   "metadata": {
    "collapsed": true
   },
   "outputs": [
    {
     "data": {
      "text/plain": "                销量\ncount   195.000000\nmean   2744.595385\nstd     424.739407\nmin     865.000000\n25%    2460.600000\n50%    2655.900000\n75%    3023.200000\nmax    4065.200000\nrange  3200.200000\nvar       0.154755\ndis     562.600000",
      "text/html": "<div>\n<style scoped>\n    .dataframe tbody tr th:only-of-type {\n        vertical-align: middle;\n    }\n\n    .dataframe tbody tr th {\n        vertical-align: top;\n    }\n\n    .dataframe thead th {\n        text-align: right;\n    }\n</style>\n<table border=\"1\" class=\"dataframe\">\n  <thead>\n    <tr style=\"text-align: right;\">\n      <th></th>\n      <th>销量</th>\n    </tr>\n  </thead>\n  <tbody>\n    <tr>\n      <th>count</th>\n      <td>195.000000</td>\n    </tr>\n    <tr>\n      <th>mean</th>\n      <td>2744.595385</td>\n    </tr>\n    <tr>\n      <th>std</th>\n      <td>424.739407</td>\n    </tr>\n    <tr>\n      <th>min</th>\n      <td>865.000000</td>\n    </tr>\n    <tr>\n      <th>25%</th>\n      <td>2460.600000</td>\n    </tr>\n    <tr>\n      <th>50%</th>\n      <td>2655.900000</td>\n    </tr>\n    <tr>\n      <th>75%</th>\n      <td>3023.200000</td>\n    </tr>\n    <tr>\n      <th>max</th>\n      <td>4065.200000</td>\n    </tr>\n    <tr>\n      <th>range</th>\n      <td>3200.200000</td>\n    </tr>\n    <tr>\n      <th>var</th>\n      <td>0.154755</td>\n    </tr>\n    <tr>\n      <th>dis</th>\n      <td>562.600000</td>\n    </tr>\n  </tbody>\n</table>\n</div>"
     },
     "execution_count": 7,
     "metadata": {},
     "output_type": "execute_result"
    }
   ],
   "source": [
    "import pandas as pd\n",
    "\n",
    "catering_sale = '/Users/admin/PycharmProjects/pythonProject1/python_da/chapter3/demo/data/catering_sale.xls'  # 餐饮数据\n",
    "data = pd.read_excel(catering_sale, index_col=u'日期')  # 读取数据，指定“日期”列为索引列\n",
    "\n",
    "data = data[(data[u'销量'] > 400) & (data[u'销量'] < 5000)]  # 过滤异常数据，只取合理范围内的数据\n",
    "\n",
    "statistics = data.describe()  # 保存基本统计量\n",
    "\n",
    "statistics.loc['range'] = statistics.loc['max'] - statistics.loc['min']  # 极差\n",
    "statistics.loc['var'] = statistics.loc['std'] / statistics.loc['mean']  # 变异系数\n",
    "statistics.loc['dis'] = statistics.loc['75%'] - statistics.loc['25%']  # 四分位数间距\n",
    "\n",
    "statistics\n"
   ]
  }
 ],
 "metadata": {
  "kernelspec": {
   "display_name": "Python 3",
   "language": "python",
   "name": "python3"
  },
  "language_info": {
   "codemirror_mode": {
    "name": "ipython",
    "version": 2
   },
   "file_extension": ".py",
   "mimetype": "text/x-python",
   "name": "python",
   "nbconvert_exporter": "python",
   "pygments_lexer": "ipython2",
   "version": "2.7.6"
  }
 },
 "nbformat": 4,
 "nbformat_minor": 0
}