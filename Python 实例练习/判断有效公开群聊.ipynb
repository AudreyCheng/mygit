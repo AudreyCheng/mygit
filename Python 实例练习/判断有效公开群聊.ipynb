{
 "cells": [
  {
   "cell_type": "code",
   "execution_count": null,
   "metadata": {},
   "outputs": [],
   "source": [
    "# 有十个公开群，只吐出有效状态的群聊\n",
    "群聊id\n",
    "while 群聊状态\n",
    "\n",
    "a = ['群聊id1', '群聊id2', '群聊id3', '群聊id4',......]\n",
    "for i in a:\n",
    "    if 群聊id1 状态为有效\n",
    "    print(群聊id)\n",
    "    break \n",
    "\n"
   ]
  }
 ],
 "metadata": {
  "kernelspec": {
   "display_name": "Python 3.8.13 ('pythonProject1')",
   "language": "python",
   "name": "python3"
  },
  "language_info": {
   "name": "python",
   "version": "3.8.13"
  },
  "orig_nbformat": 4,
  "vscode": {
   "interpreter": {
    "hash": "696ad129db3ec89cdd8358ad66cd82b6c56dd09411843a8c19ebee26f8d69acc"
   }
  }
 },
 "nbformat": 4,
 "nbformat_minor": 2
}
